{
  "cells": [
    {
      "cell_type": "markdown",
      "metadata": {
        "id": "wzLRP0o1Sicr"
      },
      "source": [
        "## Dependencies"
      ]
    },
    {
      "cell_type": "code",
      "execution_count": 1,
      "metadata": {
        "id": "3xTz0eNcSicu"
      },
      "outputs": [],
      "source": [
        "# Dependencies to Visualize the model\n",
        "%matplotlib inline\n",
        "from IPython.display import Image, SVG\n",
        "import matplotlib.pyplot as plt\n",
        "import numpy as np\n",
        "np.random.seed(0)"
      ]
    },
    {
      "cell_type": "code",
      "execution_count": 2,
      "metadata": {
        "id": "BVP10P2QSicv"
      },
      "outputs": [
        {
          "name": "stdout",
          "output_type": "stream",
          "text": [
            "WARNING:tensorflow:From c:\\Users\\noell\\anaconda3\\envs\\Noelle\\Lib\\site-packages\\keras\\src\\losses.py:2976: The name tf.losses.sparse_softmax_cross_entropy is deprecated. Please use tf.compat.v1.losses.sparse_softmax_cross_entropy instead.\n",
            "\n"
          ]
        }
      ],
      "source": [
        "# Filepaths, numpy, and Tensorflow\n",
        "import os\n",
        "import numpy as np\n",
        "import tensorflow as tf"
      ]
    },
    {
      "cell_type": "code",
      "execution_count": 3,
      "metadata": {
        "id": "M6tdXkzkSicv"
      },
      "outputs": [],
      "source": [
        "# Sklearn scaling\n",
        "from sklearn.preprocessing import MinMaxScaler"
      ]
    },
    {
      "cell_type": "code",
      "execution_count": 4,
      "metadata": {
        "id": "Whfa9y7KSicv"
      },
      "outputs": [],
      "source": [
        "# Keras\n",
        "from tensorflow import keras\n",
        "from tensorflow.keras.models import Sequential\n",
        "from tensorflow.keras.utils import to_categorical\n",
        "from tensorflow.keras.layers import Dense, Conv2D, MaxPooling2D, Flatten\n",
        "from tensorflow.keras.regularizers import l2\n"
      ]
    },
    {
      "cell_type": "code",
      "execution_count": 5,
      "metadata": {},
      "outputs": [],
      "source": [
        "from keras.preprocessing.image import ImageDataGenerator\n",
        "train_datagen = ImageDataGenerator(rescale=1./255,                   \n",
        "                                   validation_split=0.2)"
      ]
    },
    {
      "cell_type": "code",
      "execution_count": 6,
      "metadata": {},
      "outputs": [],
      "source": [
        "train_directory = 'Resources/Alzheimers_Dataset/train'\n",
        "test_directory = 'Resources/Alzheimers_Dataset/test'"
      ]
    },
    {
      "cell_type": "code",
      "execution_count": 7,
      "metadata": {},
      "outputs": [
        {
          "name": "stdout",
          "output_type": "stream",
          "text": [
            "Found 4098 images belonging to 4 classes.\n",
            "Found 1023 images belonging to 4 classes.\n"
          ]
        }
      ],
      "source": [
        "train_generator = train_datagen.flow_from_directory(\n",
        "train_directory, \n",
        "target_size=(256,256), \n",
        "color_mode='rgb', \n",
        "batch_size=25, \n",
        "class_mode='categorical', \n",
        "subset='training',\n",
        "shuffle=True,\n",
        "seed=42\n",
        ")\n",
        "validation_generator = train_datagen.flow_from_directory(\n",
        "train_directory,\n",
        "target_size=(256,256), \n",
        "color_mode='rgb', \n",
        "batch_size=25, \n",
        "class_mode='categorical', \n",
        "subset='validation', \n",
        "shuffle=False\n",
        ")"
      ]
    },
    {
      "cell_type": "code",
      "execution_count": 8,
      "metadata": {},
      "outputs": [
        {
          "name": "stdout",
          "output_type": "stream",
          "text": [
            "Found 1279 images belonging to 4 classes.\n"
          ]
        }
      ],
      "source": [
        "test_generator = ImageDataGenerator(rescale=1./255).flow_from_directory(\n",
        "test_directory,\n",
        "target_size=(256,256), \n",
        "color_mode='rgb', \n",
        "batch_size=25, \n",
        "class_mode='categorical', \n",
        "shuffle=False\n",
        ")"
      ]
    },
    {
      "cell_type": "markdown",
      "metadata": {},
      "source": [
        "Source for code: https://medium.com/@ericdnbn/how-to-import-images-into-a-jupyter-notebook-using-keras-in-3-steps-2b100b18238c"
      ]
    },
    {
      "cell_type": "code",
      "execution_count": 9,
      "metadata": {},
      "outputs": [
        {
          "name": "stdout",
          "output_type": "stream",
          "text": [
            "WARNING:tensorflow:From c:\\Users\\noell\\anaconda3\\envs\\Noelle\\Lib\\site-packages\\keras\\src\\backend.py:873: The name tf.get_default_graph is deprecated. Please use tf.compat.v1.get_default_graph instead.\n",
            "\n"
          ]
        },
        {
          "name": "stdout",
          "output_type": "stream",
          "text": [
            "WARNING:tensorflow:From c:\\Users\\noell\\anaconda3\\envs\\Noelle\\Lib\\site-packages\\keras\\src\\optimizers\\__init__.py:309: The name tf.train.Optimizer is deprecated. Please use tf.compat.v1.train.Optimizer instead.\n",
            "\n",
            "Epoch 1/50\n",
            "WARNING:tensorflow:From c:\\Users\\noell\\anaconda3\\envs\\Noelle\\Lib\\site-packages\\keras\\src\\utils\\tf_utils.py:492: The name tf.ragged.RaggedTensorValue is deprecated. Please use tf.compat.v1.ragged.RaggedTensorValue instead.\n",
            "\n",
            "40/40 [==============================] - 294s 7s/step - loss: 1.7967 - accuracy: 0.5010 - val_loss: 1.4740 - val_accuracy: 0.3880\n",
            "Epoch 2/50\n",
            "40/40 [==============================] - 281s 7s/step - loss: 1.2322 - accuracy: 0.4790 - val_loss: 1.8734 - val_accuracy: 0.3880\n",
            "Epoch 3/50\n",
            "40/40 [==============================] - 264s 7s/step - loss: 1.0819 - accuracy: 0.5050 - val_loss: 1.9446 - val_accuracy: 0.3800\n",
            "Epoch 4/50\n",
            "40/40 [==============================] - 263s 7s/step - loss: 1.0278 - accuracy: 0.5460 - val_loss: 2.1059 - val_accuracy: 0.0360\n",
            "Epoch 5/50\n",
            "40/40 [==============================] - 264s 7s/step - loss: 1.0692 - accuracy: 0.5080 - val_loss: 1.5585 - val_accuracy: 0.1440\n",
            "Epoch 6/50\n",
            "40/40 [==============================] - 264s 7s/step - loss: 0.9694 - accuracy: 0.5870 - val_loss: 2.0878 - val_accuracy: 0.2960\n",
            "Epoch 7/50\n",
            "40/40 [==============================] - 261s 7s/step - loss: 0.9881 - accuracy: 0.5800 - val_loss: 1.7324 - val_accuracy: 0.3240\n",
            "Epoch 8/50\n",
            "40/40 [==============================] - 263s 7s/step - loss: 0.9296 - accuracy: 0.6182 - val_loss: 1.5336 - val_accuracy: 0.3080\n",
            "Epoch 9/50\n",
            "40/40 [==============================] - 262s 7s/step - loss: 0.9185 - accuracy: 0.6260 - val_loss: 2.0251 - val_accuracy: 0.1240\n",
            "Epoch 10/50\n",
            "40/40 [==============================] - 264s 7s/step - loss: 0.8424 - accuracy: 0.6700 - val_loss: 1.9188 - val_accuracy: 0.2440\n",
            "Epoch 11/50\n",
            "40/40 [==============================] - 261s 7s/step - loss: 0.7791 - accuracy: 0.6850 - val_loss: 1.9230 - val_accuracy: 0.1680\n",
            "Epoch 12/50\n",
            "40/40 [==============================] - 261s 7s/step - loss: 0.6776 - accuracy: 0.7255 - val_loss: 1.8696 - val_accuracy: 0.2320\n",
            "Epoch 13/50\n",
            "40/40 [==============================] - 264s 7s/step - loss: 0.6105 - accuracy: 0.7866 - val_loss: 1.6445 - val_accuracy: 0.2400\n",
            "Epoch 14/50\n",
            "40/40 [==============================] - 263s 7s/step - loss: 0.6247 - accuracy: 0.7690 - val_loss: 1.8585 - val_accuracy: 0.2840\n",
            "Epoch 15/50\n",
            "40/40 [==============================] - 264s 7s/step - loss: 0.5543 - accuracy: 0.7980 - val_loss: 2.0793 - val_accuracy: 0.3120\n",
            "Epoch 16/50\n",
            "40/40 [==============================] - 262s 7s/step - loss: 0.5066 - accuracy: 0.8060 - val_loss: 1.4336 - val_accuracy: 0.4000\n",
            "Epoch 17/50\n",
            "40/40 [==============================] - 265s 7s/step - loss: 0.4680 - accuracy: 0.8450 - val_loss: 2.0108 - val_accuracy: 0.3440\n",
            "Epoch 18/50\n",
            "40/40 [==============================] - 260s 7s/step - loss: 0.4347 - accuracy: 0.8540 - val_loss: 1.4237 - val_accuracy: 0.4480\n",
            "Epoch 19/50\n",
            "40/40 [==============================] - 265s 7s/step - loss: 0.4005 - accuracy: 0.8630 - val_loss: 1.4048 - val_accuracy: 0.3720\n",
            "Epoch 20/50\n",
            "40/40 [==============================] - 263s 7s/step - loss: 0.3617 - accuracy: 0.8770 - val_loss: 2.1811 - val_accuracy: 0.3120\n",
            "Epoch 21/50\n",
            "40/40 [==============================] - 265s 7s/step - loss: 0.3109 - accuracy: 0.9070 - val_loss: 1.3163 - val_accuracy: 0.5200\n",
            "Epoch 22/50\n",
            "40/40 [==============================] - 263s 7s/step - loss: 0.3192 - accuracy: 0.9070 - val_loss: 1.9476 - val_accuracy: 0.4240\n",
            "Epoch 23/50\n",
            "40/40 [==============================] - 263s 7s/step - loss: 0.2829 - accuracy: 0.9020 - val_loss: 1.5874 - val_accuracy: 0.4200\n",
            "Epoch 24/50\n",
            "40/40 [==============================] - 264s 7s/step - loss: 0.2077 - accuracy: 0.9360 - val_loss: 1.0323 - val_accuracy: 0.6200\n",
            "Epoch 25/50\n",
            "40/40 [==============================] - 265s 7s/step - loss: 0.2049 - accuracy: 0.9360 - val_loss: 2.1344 - val_accuracy: 0.3480\n",
            "Epoch 26/50\n",
            "40/40 [==============================] - 267s 7s/step - loss: 0.3324 - accuracy: 0.8890 - val_loss: 1.2866 - val_accuracy: 0.5440\n",
            "Epoch 27/50\n",
            "40/40 [==============================] - 266s 7s/step - loss: 0.1904 - accuracy: 0.9550 - val_loss: 1.5445 - val_accuracy: 0.4560\n",
            "Epoch 28/50\n",
            "40/40 [==============================] - 271s 7s/step - loss: 0.2399 - accuracy: 0.9198 - val_loss: 1.7865 - val_accuracy: 0.3520\n",
            "Epoch 29/50\n",
            "40/40 [==============================] - 273s 7s/step - loss: 0.2579 - accuracy: 0.9210 - val_loss: 1.4851 - val_accuracy: 0.5200\n",
            "Epoch 30/50\n",
            "40/40 [==============================] - 270s 7s/step - loss: 0.1506 - accuracy: 0.9639 - val_loss: 1.9260 - val_accuracy: 0.4520\n",
            "Epoch 31/50\n",
            "40/40 [==============================] - 271s 7s/step - loss: 0.1460 - accuracy: 0.9630 - val_loss: 1.5512 - val_accuracy: 0.5400\n",
            "Epoch 32/50\n",
            "40/40 [==============================] - 270s 7s/step - loss: 0.1575 - accuracy: 0.9619 - val_loss: 1.4408 - val_accuracy: 0.5240\n",
            "Epoch 33/50\n",
            "40/40 [==============================] - 265s 7s/step - loss: 0.1491 - accuracy: 0.9649 - val_loss: 0.7656 - val_accuracy: 0.7120\n",
            "Epoch 34/50\n",
            "40/40 [==============================] - 265s 7s/step - loss: 0.1244 - accuracy: 0.9780 - val_loss: 1.9138 - val_accuracy: 0.4360\n",
            "Epoch 35/50\n",
            "40/40 [==============================] - 272s 7s/step - loss: 0.0951 - accuracy: 0.9840 - val_loss: 1.5602 - val_accuracy: 0.5360\n",
            "Epoch 36/50\n",
            "40/40 [==============================] - 275s 7s/step - loss: 0.1136 - accuracy: 0.9780 - val_loss: 1.0850 - val_accuracy: 0.6160\n",
            "Epoch 37/50\n",
            "40/40 [==============================] - 275s 7s/step - loss: 0.1077 - accuracy: 0.9760 - val_loss: 0.9710 - val_accuracy: 0.6680\n",
            "Epoch 38/50\n",
            "40/40 [==============================] - 272s 7s/step - loss: 0.1834 - accuracy: 0.9450 - val_loss: 1.0670 - val_accuracy: 0.6560\n",
            "Epoch 39/50\n",
            "40/40 [==============================] - 273s 7s/step - loss: 0.1425 - accuracy: 0.9660 - val_loss: 1.4752 - val_accuracy: 0.5680\n",
            "Epoch 40/50\n",
            "40/40 [==============================] - 264s 7s/step - loss: 0.0946 - accuracy: 0.9870 - val_loss: 2.4390 - val_accuracy: 0.4040\n",
            "Epoch 41/50\n",
            "40/40 [==============================] - 261s 7s/step - loss: 0.0982 - accuracy: 0.9850 - val_loss: 0.9351 - val_accuracy: 0.7280\n",
            "Epoch 42/50\n",
            "40/40 [==============================] - 265s 7s/step - loss: 0.0957 - accuracy: 0.9860 - val_loss: 1.1958 - val_accuracy: 0.6280\n",
            "Epoch 43/50\n",
            "40/40 [==============================] - 270s 7s/step - loss: 0.0978 - accuracy: 0.9810 - val_loss: 1.1567 - val_accuracy: 0.6600\n",
            "Epoch 44/50\n",
            "40/40 [==============================] - 266s 7s/step - loss: 0.0759 - accuracy: 0.9940 - val_loss: 0.9201 - val_accuracy: 0.7240\n",
            "Epoch 45/50\n",
            "40/40 [==============================] - 268s 7s/step - loss: 0.0669 - accuracy: 0.9960 - val_loss: 1.9149 - val_accuracy: 0.5280\n",
            "Epoch 46/50\n",
            "40/40 [==============================] - 273s 7s/step - loss: 0.0608 - accuracy: 0.9970 - val_loss: 0.8931 - val_accuracy: 0.7680\n",
            "Epoch 47/50\n",
            "40/40 [==============================] - 273s 7s/step - loss: 0.0955 - accuracy: 0.9800 - val_loss: 1.0989 - val_accuracy: 0.6440\n",
            "Epoch 48/50\n",
            "40/40 [==============================] - 270s 7s/step - loss: 0.1009 - accuracy: 0.9830 - val_loss: 2.2125 - val_accuracy: 0.4600\n",
            "Epoch 49/50\n",
            "40/40 [==============================] - 272s 7s/step - loss: 0.1190 - accuracy: 0.9730 - val_loss: 2.1831 - val_accuracy: 0.4880\n",
            "Epoch 50/50\n",
            "40/40 [==============================] - 270s 7s/step - loss: 0.0850 - accuracy: 0.9830 - val_loss: 1.0635 - val_accuracy: 0.7040\n"
          ]
        },
        {
          "data": {
            "text/plain": [
              "<keras.src.callbacks.History at 0x2d1f30b84d0>"
            ]
          },
          "execution_count": 9,
          "metadata": {},
          "output_type": "execute_result"
        }
      ],
      "source": [
        "model = Sequential()\n",
        "model.add(Conv2D(256, kernel_size=(3,3), activation='relu',input_shape=(256,256,3)))\n",
        "model.add(MaxPooling2D(2,2))\n",
        "model.add(Conv2D(64, kernel_size=(5,5), activation='relu', kernel_regularizer=l2(l2=0.001)))\n",
        "model.add(MaxPooling2D(2,2))\n",
        "model.add(Flatten())\n",
        "model.add(Dense(16, activation='relu', kernel_regularizer=l2(l2=0.001)))\n",
        "model.add(Dense(4, activation='softmax'))\n",
        "            \n",
        "model.compile(loss='categorical_crossentropy',\n",
        "              optimizer='adam',\n",
        "              metrics=['accuracy'])\n",
        "model.fit(train_generator,\n",
        "          steps_per_epoch=40,\n",
        "          epochs=50,\n",
        "          validation_data=(validation_generator),\n",
        "          validation_steps=10)"
      ]
    },
    {
      "cell_type": "code",
      "execution_count": null,
      "metadata": {},
      "outputs": [],
      "source": [
        "final_loss, final_accuracy = model.evaluate(valid_generator, steps = val_steps_per_epoch)\n",
        "print(\"Final loss: {:.2f}\".format(final_loss))\n",
        "print(\"Final accuracy: {:.2f}%\".format(final_accuracy * 100))"
      ]
    },
    {
      "cell_type": "code",
      "execution_count": null,
      "metadata": {},
      "outputs": [],
      "source": [
        "\n",
        "plt.figure()\n",
        "plt.ylabel(\"Loss (training and validation)\")\n",
        "plt.xlabel(\"Training Steps\")\n",
        "plt.ylim([0,50])\n",
        "plt.plot(hist[\"loss\"])\n",
        "plt.plot(hist[\"val_loss\"])\n",
        "\n",
        "plt.figure()\n",
        "plt.ylabel(\"Accuracy (training and validation)\")\n",
        "plt.xlabel(\"Training Steps\")\n",
        "plt.ylim([0,1])\n",
        "plt.plot(hist[\"acc\"])\n",
        "plt.plot(hist[\"val_acc\"])"
      ]
    },
    {
      "cell_type": "code",
      "execution_count": null,
      "metadata": {},
      "outputs": [],
      "source": [
        "val_image_batch, val_label_batch = next(iter(valid_generator))\n",
        "true_label_ids = np.argmax(val_label_batch, axis=-1)\n",
        "print(\"Validation batch shape:\", val_image_batch.shape)"
      ]
    },
    {
      "cell_type": "code",
      "execution_count": null,
      "metadata": {},
      "outputs": [],
      "source": [
        "dataset_labels = sorted(train_generator.class_indices.items(), key=lambda pair:pair[1])\n",
        "dataset_labels = np.array([key.title() for key, value in dataset_labels])\n",
        "print(dataset_labels)"
      ]
    },
    {
      "cell_type": "code",
      "execution_count": null,
      "metadata": {},
      "outputs": [],
      "source": [
        "tf_model_predictions = model.predict(val_image_batch)\n",
        "print(\"Prediction results shape:\", tf_model_predictions.shape)"
      ]
    },
    {
      "cell_type": "code",
      "execution_count": null,
      "metadata": {},
      "outputs": [],
      "source": [
        "predicted_ids = np.argmax(tf_model_predictions, axis=-1)\n",
        "predicted_labels = dataset_labels[predicted_ids]\n",
        "print(predicted_labels)"
      ]
    },
    {
      "cell_type": "code",
      "execution_count": null,
      "metadata": {},
      "outputs": [],
      "source": [
        "plt.figure(figsize=(10,9))\n",
        "plt.subplots_adjust(hspace=0.5)\n",
        "for n in range((len(predicted_labels)-2)):\n",
        "  plt.subplot(6,5,n+1)\n",
        "  plt.imshow(val_image_batch[n])\n",
        "  color = \"green\" if predicted_ids[n] == true_label_ids[n] else \"red\"\n",
        "  plt.title(predicted_labels[n].title(), color=color)\n",
        "  plt.axis('off')\n",
        "_ = plt.suptitle(\"Model predictions (green: correct, red: incorrect)\")"
      ]
    }
  ],
  "metadata": {
    "anaconda-cloud": {},
    "celltoolbar": "Slideshow",
    "colab": {
      "provenance": []
    },
    "kernelspec": {
      "display_name": "Python 3",
      "language": "python",
      "name": "python3"
    },
    "language_info": {
      "codemirror_mode": {
        "name": "ipython",
        "version": 3
      },
      "file_extension": ".py",
      "mimetype": "text/x-python",
      "name": "python",
      "nbconvert_exporter": "python",
      "pygments_lexer": "ipython3",
      "version": "3.11.7"
    },
    "varInspector": {
      "cols": {
        "lenName": 16,
        "lenType": 16,
        "lenVar": 40
      },
      "kernels_config": {
        "python": {
          "delete_cmd_postfix": "",
          "delete_cmd_prefix": "del ",
          "library": "var_list.py",
          "varRefreshCmd": "print(var_dic_list())"
        },
        "r": {
          "delete_cmd_postfix": ") ",
          "delete_cmd_prefix": "rm(",
          "library": "var_list.r",
          "varRefreshCmd": "cat(var_dic_list()) "
        }
      },
      "types_to_exclude": [
        "module",
        "function",
        "builtin_function_or_method",
        "instance",
        "_Feature"
      ],
      "window_display": false
    },
    "vscode": {
      "interpreter": {
        "hash": "31f2aee4e71d21fbe5cf8b01ff0e069b9275f58929596ceb00d14d90e3e16cd6"
      }
    }
  },
  "nbformat": 4,
  "nbformat_minor": 0
}
